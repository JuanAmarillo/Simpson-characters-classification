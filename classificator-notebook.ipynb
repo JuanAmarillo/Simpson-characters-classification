{
  "nbformat": 4,
  "nbformat_minor": 0,
  "metadata": {
    "colab": {
      "name": "RNA MLP Imag ANIMALES.ipynb",
      "provenance": [],
      "collapsed_sections": []
    },
    "kernelspec": {
      "name": "python3",
      "display_name": "Python 3"
    },
    "accelerator": "GPU"
  },
  "cells": [
    {
      "cell_type": "markdown",
      "metadata": {
        "id": "2OvlxnFIsNyT"
      },
      "source": [
        "# Demo RNA Multi-Perceptrón Backpropagation usando Keras para procesar las imágenes de personajes de los simpsons e identificar a cual corresponse"
      ]
    },
    {
      "cell_type": "markdown",
      "metadata": {
        "id": "WGdqrNAvsWiF"
      },
      "source": [
        "1) Cargar librerías:"
      ]
    },
    {
      "cell_type": "code",
      "metadata": {
        "id": "gcVLfyLKsaCj",
        "cellView": "both",
        "outputId": "0c6c3d20-9efb-4076-9eed-9f72ca3ba313",
        "colab": {
          "base_uri": "https://localhost:8080/",
          "height": 34
        }
      },
      "source": [
        "import random\n",
        "import keras\n",
        "from keras.layers import Input, Dense\n",
        "from keras.models import Model\n",
        "from keras.utils import plot_model\n",
        "\n",
        "import tensorflow as tf\n",
        "from matplotlib import pyplot as plt\n",
        "import pandas as pd\n",
        "import numpy as np\n",
        "import os\n",
        "\n",
        "from PIL import Image\n",
        "\n",
        "from  sklearn.metrics import classification_report\n",
        "from sklearn.metrics import confusion_matrix\n",
        "\n",
        "print(\"Librerías cargadas\")"
      ],
      "execution_count": 24,
      "outputs": [
        {
          "output_type": "stream",
          "text": [
            "Librerías cargadas\n"
          ],
          "name": "stdout"
        }
      ]
    },
    {
      "cell_type": "markdown",
      "metadata": {
        "id": "xXate9UMmhDA"
      },
      "source": [
        "2) Definir los parámetros:"
      ]
    },
    {
      "cell_type": "code",
      "metadata": {
        "id": "_JT7y1jKmrD9",
        "outputId": "a9d2dd13-d7bc-4de2-ea61-6e8758ef1a8f",
        "colab": {
          "base_uri": "https://localhost:8080/",
          "height": 34
        }
      },
      "source": [
        "# tamaño de las imágenes\n",
        "IMAGE_SHAPE = (60, 60, 3)\n",
        "\n",
        "# indica si se usan las imágenes generadas por data augmentation\n",
        "usarDA = False\n",
        "\n",
        "# define tamaño de datos de entrada \n",
        "num_inputs = IMAGE_SHAPE[0] * IMAGE_SHAPE[1] * IMAGE_SHAPE[2]\n",
        "\n",
        "# define tamaño de datos de salida (las clases están codificadas en un único número)\n",
        "num_outputs = 1 \n",
        "\n",
        "# cantidad de neuronas ocultas \n",
        "##hidden_layers = [ 896, 84, 8 ] \n",
        "hidden_layers = [ num_inputs//5, num_inputs//20, num_inputs//100 ]\n",
        "\n",
        "# cantidad de épocas del entrenamiento\n",
        "cantEpocas = 300\n",
        "\n",
        "map_characters = {\n",
        "    0: 'abraham_grampa_simpson',\n",
        "    1: 'homer_simpson',\n",
        "    2: 'otto_mann',\n",
        "    3: 'agnes_skinner',\n",
        "    4: 'kent_brockman',\n",
        "    5: 'patty_bouvier',\n",
        "    6: 'apu_nahasapeemapetilon',\n",
        "    7: 'krusty_the_clown',\n",
        "    8: 'principal_skinner',\n",
        "    9: 'barney_gumble',\n",
        "    10: 'lenny_leonard',\n",
        "    11: 'professor_john_frink',\n",
        "    12: 'bart_simpson',\n",
        "    13: 'lionel_hutz',\n",
        "    14: 'rainier_wolfcastle',\n",
        "    15: 'carl_carlson',\n",
        "    16: 'lisa_simpson',\t       \n",
        "    17: 'ralph_wiggum',\n",
        "    18: 'charles_montgomery_burns',\n",
        "    19: 'maggie_simpson', \n",
        "    20: 'selma_bouvier',\n",
        "    21: 'chief_wiggum',\n",
        "    22: 'marge_simpson',\n",
        "    23: 'sideshow_bob',\n",
        "    24: 'cletus_spuckler',\n",
        "    25: 'martin_prince',\n",
        "    26: 'sideshow_mel',\n",
        "    27: 'comic_book_guy',\n",
        "    28: 'mayor_quimby',\n",
        "    29:\t'simpsons_dataset',\n",
        "    30: 'disco_stu',\n",
        "    31: 'milhouse_van_houten',\n",
        "    32: 'snake_jailbird',\n",
        "    33: 'edna_krabappel',\n",
        "    34: 'miss_hoover',\n",
        "    35: 'troy_mcclure',\n",
        "    36: 'fat_tony',\n",
        "    37: 'moe_szyslak',\n",
        "    38: 'waylon_smithers',\n",
        "    39: 'gil',\n",
        "    40: 'ned_flanders',\n",
        "    41: 'groundskeeper_willie',\n",
        "    42:\t'nelson_muntz'\n",
        "\n",
        "}\n",
        "print(\"Configuración de RNA MLP Backpropagation definida: [\", num_inputs, hidden_layers, num_outputs,\" ] \")"
      ],
      "execution_count": 41,
      "outputs": [
        {
          "output_type": "stream",
          "text": [
            "Configuración de RNA MLP Backpropagation definida: [ 10800 [2160, 540, 108] 1  ] \n"
          ],
          "name": "stdout"
        }
      ]
    },
    {
      "cell_type": "markdown",
      "metadata": {
        "id": "-Rm33ZPNnBpE"
      },
      "source": [
        "3) Montar el Drive:"
      ]
    },
    {
      "cell_type": "code",
      "metadata": {
        "id": "ysaIl300nDud",
        "outputId": "d1575bac-6c27-4a1b-ebf0-468efd64a722",
        "colab": {
          "base_uri": "https://localhost:8080/",
          "height": 34
        }
      },
      "source": [
        "from google.colab import drive\n",
        "drive.mount('/content/drive', force_remount=True)\n",
        "\n",
        "#!unzip \"/content/drive/My Drive/I.A. GRUPO/T2 - TheSimpsons/dataset.zip\"\n",
        "\n",
        "image_pathes = 'simpsons_dataset'\n",
        "!rm -rf simpsons_dataset/simpsons_dataset\n",
        " "
      ],
      "execution_count": 39,
      "outputs": [
        {
          "output_type": "stream",
          "text": [
            "Mounted at /content/drive\n"
          ],
          "name": "stdout"
        }
      ]
    },
    {
      "cell_type": "markdown",
      "metadata": {
        "id": "sDkaUtZ6nG8l"
      },
      "source": [
        "4) Cargar imágenes para entrenar el modelo:"
      ]
    },
    {
      "cell_type": "code",
      "metadata": {
        "id": "uYz8mV4SnJ4O",
        "outputId": "326e267d-e815-42fd-e00b-2b3bb3051173",
        "colab": {
          "base_uri": "https://localhost:8080/",
          "height": 348
        }
      },
      "source": [
        "# define función para cargar las imágenes\n",
        "def cargarImagenes(imagPath):\n",
        "  classes_ori = [] \n",
        "  images_ori = []\n",
        "\n",
        "  all_dirs = os.listdir( imagPath )\n",
        "  print(all_dirs)\n",
        "  for each_dir in all_dirs:\n",
        "      auxiPath = imagPath + '/' + each_dir \n",
        "      imagFN  = os.listdir( auxiPath )\n",
        "      for each_imagFN in imagFN:\n",
        "        # abre la imagen\n",
        "        imag = Image.open(auxiPath + \"/\" + each_imagFN)\n",
        "        \n",
        "        # ajusta el tamaño\n",
        "        imag = imag.resize((IMAGE_SHAPE[0], IMAGE_SHAPE[1]), Image.ANTIALIAS)          \n",
        "        \n",
        "        # transforma a un vector de nros\n",
        "        arImag = np.array(imag)\n",
        "        \n",
        "        # agrega a los vectores\n",
        "        classes_ori.append( each_dir )\n",
        "        images_ori.append( arImag )\n",
        "\n",
        "  return classes_ori, images_ori, \"RGB\"\n",
        "\n",
        "\n",
        "def split_into_train_and_test_randomly(classes, images):\n",
        "    indexes = list(range(0, len(images)))\n",
        "    random.shuffle(indexes)\n",
        "    eighty_percent = (len(indexes) // 10) * 8\n",
        "\n",
        "    train_indexes = indexes[:eighty_percent]\n",
        "    test_indexes = indexes[eighty_percent:]\n",
        "\n",
        "    train_classes, train_images = split_into_train_and_test(classes, images, train_indexes)\n",
        "    test_classes, test_images = split_into_train_and_test(classes, images, test_indexes)\n",
        "\n",
        "    return train_classes, train_images, test_classes, test_images\n",
        "\n",
        "\n",
        "def split_into_train_and_test(classes, images, indexes):\n",
        "    return split_by_indexes(classes, indexes), split_by_indexes(images, indexes)\n",
        "\n",
        "\n",
        "def split_by_indexes(elements, indexes):\n",
        "    return [*map(lambda index: elements[index], indexes)]\n",
        "\n",
        "# carga las imagenes de entrenamiento\n",
        "classes, images, image_type = cargarImagenes(image_pathes)\n",
        "print(\"clases\", len(classes));\n",
        "print(\"images\", len(images))\n",
        "classes_train, images_train, classes_test, images_test = split_into_train_and_test_randomly(classes, images)\n",
        "\n",
        "print(\"> Para Entrenamiento: \")\n",
        "print(\"- Imágenes cargadas: \", len(images_train))\n",
        "\n",
        "if len(classes_train)>0:\n",
        "  print(\"- Ejemplo \", classes_train[0], \" \", images_train[0].shape, \": \")\n",
        "  display( Image.fromarray(images_train[0], image_type) )\n",
        "\n",
        "print(\"\\n\\n> Para Prueba: \")\n",
        "print(\"- Imágenes cargadas: \", len(images_test))\n",
        "\n",
        "if len(classes_test)>0:\n",
        "  print(\"- Ejemplo \", classes_test[0], \" \", images_test[0].shape, \": \")\n",
        "  display( Image.fromarray(images_test[0], image_type) )"
      ],
      "execution_count": 44,
      "outputs": [
        {
          "output_type": "stream",
          "text": [
            "['cletus_spuckler', 'agnes_skinner', 'patty_bouvier', 'waylon_smithers', 'mayor_quimby', 'gil', 'troy_mcclure', 'selma_bouvier', 'snake_jailbird', 'lionel_hutz', 'ralph_wiggum', 'milhouse_van_houten', 'miss_hoover', 'carl_carlson', 'martin_prince', 'apu_nahasapeemapetilon', 'marge_simpson', 'ned_flanders', 'chief_wiggum', 'kent_brockman', 'lenny_leonard', 'otto_mann', 'fat_tony', 'nelson_muntz', 'lisa_simpson', 'groundskeeper_willie', 'homer_simpson', 'moe_szyslak', 'krusty_the_clown', 'maggie_simpson', 'charles_montgomery_burns', 'rainier_wolfcastle', 'bart_simpson', 'disco_stu', 'sideshow_mel', 'professor_john_frink', 'comic_book_guy', 'principal_skinner', 'barney_gumble', 'edna_krabappel', 'abraham_grampa_simpson', 'sideshow_bob']\n",
            "clases 20933\n",
            "images 20933\n",
            "> Para Entrenamiento: \n",
            "- Imágenes cargadas:  16744\n",
            "- Ejemplo  maggie_simpson   (60, 60, 3) : \n"
          ],
          "name": "stdout"
        },
        {
          "output_type": "display_data",
          "data": {
            "image/png": "[encoded data removed]",
            "text/plain": [
              "<PIL.Image.Image image mode=RGB size=60x60 at 0x7F5386D2C278>"
            ]
          },
          "metadata": {
            "tags": []
          }
        },
        {
          "output_type": "stream",
          "text": [
            "\n",
            "\n",
            "> Para Prueba: \n",
            "- Imágenes cargadas:  4189\n",
            "- Ejemplo  bart_simpson   (60, 60, 3) : \n"
          ],
          "name": "stdout"
        },
        {
          "output_type": "display_data",
          "data": {
            "image/png": "[encoded data removed]",
            "text/plain": [
              "<PIL.Image.Image image mode=RGB size=60x60 at 0x7F5386D2C208>"
            ]
          },
          "metadata": {
            "tags": []
          }
        }
      ]
    },
    {
      "cell_type": "code",
      "metadata": {
        "id": "CPPvnkjTnTQN"
      },
      "source": [
        "# define función auxiliar para mostrar imágenes preparadas\n",
        "def plot_image(imag):\n",
        "  if IMAGE_SHAPE[2]==1:\n",
        "    plt.imshow((imag*255).reshape(IMAGE_SHAPE[0], IMAGE_SHAPE[1]).astype(np.uint8))\n",
        "    plt.gray()\n",
        "  else:\n",
        "    plt.imshow((imag*255).reshape(IMAGE_SHAPE).astype(np.uint8))\n",
        "  plt.axis(\"off\")  \n",
        "\n",
        "# define función auxiliar para preparar la lista de imágenes a procesar\n",
        "def prepare_imageList(imagList):    \n",
        "  auxiAr = np.array(imagList).astype('float32') / 255.\n",
        "  auxiAr = auxiAr.reshape((len(auxiAr), num_inputs))  \n",
        "  return np.array(auxiAr)\n",
        "\n",
        "# define función auxiliar para preparar lista de clases \n",
        "def prepare_clasesList(classesList, dictMapeo=None):\n",
        "  if dictMapeo==None:\n",
        "    # genera diccionario de mapeo\n",
        "    auxDict = list(set(classesList))\n",
        "    dictMapeo = dict( zip( auxDict, range(len(auxDict)) ) )\n",
        "  # realiza el mapeo\n",
        "  y = []\n",
        "  for cl in classesList:\n",
        "      y.append( dictMapeo[cl] )\n",
        "  return np.array(y), dictMapeo\n",
        "\n",
        "# define vector auxiliar de datos de entrada para usar en el entrenamiento y prueba\n",
        "x_train = prepare_imageList(images_train)\n",
        "x_test = prepare_imageList(images_test)\n",
        "\n",
        "# define vector auxiliar de datos de salida para usar en el entrenamiento y prueba\n",
        "# también usa esta información para determinar la cantida de neuronas de salida\n",
        "y_train, dictMapeo = prepare_clasesList(classes_train)\n",
        "y_test, _ = prepare_clasesList(classes_test, dictMapeo)\n",
        "\n",
        "# genera diccionario auxiliar para poder convertir de ID de clase a nombre de clase\n",
        "clases_map = [ x for x,y in dictMapeo.items() ]\n",
        "\n",
        "print(\"> Para Entrenamiento: \")\n",
        "print(\" - x_train (cant ejemplos, datos entrada): \", x_train.shape)\n",
        "print(\" - y_train (cant): \", len(y_train))\n",
        "print(\"\\n\\n> Para Prueba: \")\n",
        "print(\" - x_test (cant ejemplos, datos entrada): \", x_test.shape)\n",
        "print(\" - y_test (cant): \", len(y_test))\n",
        "print(\"\\n\\n> Para Ambos: \")\n",
        "print(\" - dictMapeo: \", dictMapeo)\n",
        "print(\" - clases_map: \", clases_map)\n",
        "if len(y_train)>0:\n",
        "  print(\"\\n - Imagen reconstruida de \", clases_map[y_train[0]], \"(\", y_train[0], \")\")\n",
        "  plot_image(x_train[0])"
      ],
      "execution_count": null,
      "outputs": []
    },
    {
      "cell_type": "markdown",
      "metadata": {
        "id": "wvooB4Gws7ua"
      },
      "source": [
        "5) Establecer el modelo para la RNA:"
      ]
    },
    {
      "cell_type": "code",
      "metadata": {
        "id": "_MlYyhEutC_O"
      },
      "source": [
        "# define la arquitectura de capas teniendo en cuenta la definición dada anteriomente\n",
        "input_img_Lay = Input(shape=(num_inputs,), name='input_img') # capa de entrada\n",
        "eachLay = input_img_Lay\n",
        "auxName = 'hidd_'\n",
        "auxId = 1 \n",
        "for num_hid in hidden_layers:  \n",
        "    \n",
        "    # agrega la capa oculta\n",
        "    auxlayerName = auxName+str(auxId)\n",
        "    auxId = auxId + 1\n",
        "    eachLay = Dense(num_hid, name=auxlayerName)(eachLay) # capas ocultas\n",
        "\n",
        "output_img_Lay = Dense(num_outputs, activation=None, name='output')(eachLay) # capa de salida\n",
        "\n",
        "# genera el modelo RNA MLP Backpropagation\n",
        "model = Model(input_img_Lay, output_img_Lay, name='RNA')\n",
        "#model.compile(optimizer='rmsprop', loss='mse', metrics=['accuracy'])\n",
        "model.compile(optimizer='adam', loss='mse', metrics=['accuracy'])\n",
        "\n",
        "print(\"Modelo creado con \", len(model.layers), \" capas:\")\n",
        "model.summary()\n",
        "print(\"\\n\")\n",
        "plot_model(model, show_layer_names=True, show_shapes=True)\n"
      ],
      "execution_count": null,
      "outputs": []
    },
    {
      "cell_type": "markdown",
      "metadata": {
        "id": "DBtXyyXCtjDc"
      },
      "source": [
        "6) Entrenar el modelo de la RNA:"
      ]
    },
    {
      "cell_type": "code",
      "metadata": {
        "id": "21pQvmtCtn-T"
      },
      "source": [
        "# lleva a cabo el entrenamiento\n",
        "model.fit(x_train, y_train,\n",
        "                epochs = cantEpocas, \n",
        "                batch_size = 15) "
      ],
      "execution_count": null,
      "outputs": []
    },
    {
      "cell_type": "code",
      "metadata": {
        "id": "ZzmLDXuUHkdf"
      },
      "source": [
        "# función auxiliar para probar el modelo entrenado en detalle\n",
        "def probarModelo(x, y, esDAimag, clases_map):\n",
        "\n",
        "    # procesa las imágenes de prueba con el modelo \n",
        "    predClass = model.predict(x)\n",
        "\n",
        "    # muestra los resultados con las imágenes \n",
        "    umbralClas = 0.5\n",
        "    classPreds = []\n",
        "    classReal = []\n",
        "    for i in range(len(x)):\n",
        "\n",
        "        # prepara salida\n",
        "        clReal = clases_map[ y[i] ] \n",
        "        idclPred = predClass[i][0]\n",
        "\n",
        "        ## determina clase predecida de acuerdo al umbral de clasificación\n",
        "        idclPredRnd = int(idclPred)\n",
        "        if (idclPred - idclPredRnd)>0.5 and (idclPredRnd+1)<len(clases_map):\n",
        "                idclPredRnd = idclPredRnd + 1\n",
        "\n",
        "        if idclPredRnd<0 or idclPredRnd>=len(clases_map):\n",
        "            clPred = \"CLASE \" + str(idclPredRnd) + \" INVÁLIDA!\"\n",
        "        else:      \n",
        "            clPred = clases_map[ idclPredRnd ]\n",
        "\n",
        "        classReal.append( clReal )\n",
        "        classPreds.append( clPred )\n",
        "\n",
        "        # sólo muestra las imágenes no generadas por DA\n",
        "        if not esDAimag[i]:\n",
        "          strTitulo = 'Real: ' + clReal + ' / RNA: ' \n",
        "          strTitulo = strTitulo + clPred + ' (' + str( idclPred ) +')'    \n",
        "\n",
        "          # muestra comparación con la imagen\n",
        "          fig = plt.figure()\n",
        "          fig.suptitle( strTitulo )\n",
        "          ax1 = fig.add_subplot(121)\n",
        "          plot_image( x[i] )\n",
        "          \n",
        "          plt.tight_layout()\n",
        "          fig = plt.gcf()\n",
        "\n",
        "    # muestra reporte de clasificación\n",
        "    print(\"\\n Reporte de Clasificación: \")\n",
        "    print(classification_report(classReal, classPreds))\n",
        "\n",
        "    # muestra matriz de confusion\n",
        "    print('\\nMatriz de Confusión: ')\n",
        "    cm = confusion_matrix(classReal, classPreds, labels=clases_map)\n",
        "    cmtx = pd.DataFrame(\n",
        "        cm, \n",
        "        index=['r:{:}'.format(x) for x in clases_map], \n",
        "        columns=['p:{:}'.format(x) for x in clases_map]\n",
        "      )\n",
        "    print(cmtx)\n",
        "    print(\"\\n\")\n",
        "\n",
        "    print(\"\\n>Resultados: \")\n",
        "\n",
        "\n",
        "# prueba con los datos de entrenamiento\n",
        "print(\"*** Resultados con datos de Entrenamiento: \")\n",
        "probarModelo(x_train, y_train, esDAimag_train, clases_map)"
      ],
      "execution_count": null,
      "outputs": []
    },
    {
      "cell_type": "markdown",
      "metadata": {
        "id": "Yh-6p2xDtrUU"
      },
      "source": [
        "7) Evaluar el modelo de la RNA entrenado usando las imágenes de prueba:"
      ]
    },
    {
      "cell_type": "code",
      "metadata": {
        "id": "A15K-9TRtq7U"
      },
      "source": [
        " # evalua al modelo entrenado\n",
        "resEval = model.evaluate(x_test, y_test)\n",
        "print(\"\\n>Evaluación del Modelo: \")\n",
        "print(\"    - Error: \", resEval[0])\n",
        "print(\"    - Exactitud: \", resEval[1]*100)\n",
        "print(\"\\n\")\n",
        "\n",
        "# prueba con los datos de entrenamiento\n",
        "print(\"\\n\\n*** Resultados con datos de Prueba: \")\n",
        "probarModelo(x_test, y_test, esDAimag_test, clases_map)"
      ],
      "execution_count": null,
      "outputs": []
    }
  ]
}